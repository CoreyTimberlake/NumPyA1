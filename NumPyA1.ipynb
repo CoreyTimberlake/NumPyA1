{
  "nbformat": 4,
  "nbformat_minor": 0,
  "metadata": {
    "colab": {
      "provenance": []
    },
    "kernelspec": {
      "name": "python3",
      "display_name": "Python 3"
    },
    "language_info": {
      "name": "python"
    }
  },
  "cells": [
    {
      "cell_type": "code",
      "execution_count": 164,
      "metadata": {
        "id": "9_HwRjDUHUET"
      },
      "outputs": [],
      "source": [
        "import numpy as np\n",
        "x = [2,8,7,11]\n",
        "Q1 = np.array(x)\n",
        "\n",
        "Q2 = np.array([[1,2,3],[4,5,6],[7,8,9]])\n",
        "\n",
        "Q3 = Q2[:,1:2]\n",
        "\n",
        "np.random.seed(6)\n",
        "Q4 = np.random.randint(10, size = (5,6))\n",
        "\n",
        "Q5 = Q4[0:3, 1:3]\n",
        "\n",
        "Q6 = Q4[3:, 2:-1]\n",
        "\n",
        "Q7 = Q4[2:-1, 1:-3]\n",
        "\n",
        "Q8 = Q4[:, 2:-2]\n",
        "\n",
        "Q9 = Q4[3:]\n"
      ]
    }
  ]
}